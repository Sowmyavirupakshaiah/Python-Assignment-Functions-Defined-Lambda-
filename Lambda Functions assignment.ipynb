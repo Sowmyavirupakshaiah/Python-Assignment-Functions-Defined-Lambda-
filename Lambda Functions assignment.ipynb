{
 "cells": [
  {
   "cell_type": "markdown",
   "id": "28342b47",
   "metadata": {},
   "source": [
    "# 1.Write a Python program to sort a list of tuples using Lambda.\n",
    "         subject_marks = [('English', 88), ('Science', 90), ('Maths', 97), ('Social sciences', 82)\n"
   ]
  },
  {
   "cell_type": "code",
   "execution_count": 1,
   "id": "aef56eb7",
   "metadata": {},
   "outputs": [
    {
     "name": "stdout",
     "output_type": "stream",
     "text": [
      "Original list of tuples:\n",
      "[('English', 88), ('Science', 90), ('Maths', 97), ('Social sciences', 82)]\n",
      "\n",
      "Sorting the List of Tuples:\n",
      "[('Social sciences', 82), ('English', 88), ('Science', 90), ('Maths', 97)]\n"
     ]
    }
   ],
   "source": [
    "subject_marks = [('English', 88), ('Science', 90), ('Maths', 97), ('Social sciences', 82)]\n",
    "print(\"Original list of tuples:\")\n",
    "print(subject_marks)\n",
    "subject_marks.sort(key = lambda x: x[1])\n",
    "print(\"\\nSorting the List of Tuples:\")\n",
    "print(subject_marks)"
   ]
  },
  {
   "cell_type": "markdown",
   "id": "3069a85a",
   "metadata": {},
   "source": [
    "# 2) Write a Python program to square and cube every number in a given list of integers using Lambda."
   ]
  },
  {
   "cell_type": "code",
   "execution_count": 2,
   "id": "f263b9f9",
   "metadata": {},
   "outputs": [
    {
     "name": "stdout",
     "output_type": "stream",
     "text": [
      "Original list of integers:\n",
      "[1, 2, 3, 4, 5, 6, 7, 8, 9, 10]\n",
      "\n",
      "Square every number of the said list:\n",
      "[1, 4, 9, 16, 25, 36, 49, 64, 81, 100]\n",
      "\n",
      "Cube every number of the said list:\n",
      "[1, 8, 27, 64, 125, 216, 343, 512, 729, 1000]\n"
     ]
    }
   ],
   "source": [
    "nums = [1, 2, 3, 4, 5, 6, 7, 8, 9, 10]\n",
    "print(\"Original list of integers:\")\n",
    "print(nums)\n",
    "print(\"\\nSquare every number of the said list:\")\n",
    "square_nums = list(map(lambda x: x ** 2, nums))\n",
    "print(square_nums)\n",
    "print(\"\\nCube every number of the said list:\")\n",
    "cube_nums = list(map(lambda x: x ** 3, nums))\n",
    "print(cube_nums)"
   ]
  },
  {
   "cell_type": "markdown",
   "id": "fa4654a0",
   "metadata": {},
   "source": [
    "# 3) Write a Python program to add two given lists using map and lambda# "
   ]
  },
  {
   "cell_type": "code",
   "execution_count": 3,
   "id": "0a98c01a",
   "metadata": {},
   "outputs": [
    {
     "name": "stdout",
     "output_type": "stream",
     "text": [
      "Original list:\n",
      "[1, 2, 3]\n",
      "[4, 5, 6]\n",
      "\n",
      "Result: after adding two list\n",
      "[5, 7, 9]\n"
     ]
    }
   ],
   "source": [
    "nums1 = [1, 2, 3]\n",
    "nums2 = [4, 5, 6]\n",
    "print(\"Original list:\")\n",
    "print(nums1)\n",
    "print(nums2)\n",
    "result = map(lambda x, y: x + y, nums1, nums2)\n",
    "print(\"\\nResult: after adding two list\")\n",
    "print(list(result))"
   ]
  },
  {
   "cell_type": "markdown",
   "id": "9bdf050a",
   "metadata": {},
   "source": [
    "# 4) Write an python program to filter all the elements in the list that are divisible by 13.\n",
    "         my_list = [12, 65, 54, 39, 102,  339, 221, 50, 70]\n"
   ]
  },
  {
   "cell_type": "code",
   "execution_count": 4,
   "id": "c4d787b2",
   "metadata": {},
   "outputs": [
    {
     "name": "stdout",
     "output_type": "stream",
     "text": [
      "Orginal list:\n",
      "[12, 65, 54, 39, 102, 339, 221, 50, 70]\n",
      "\n",
      "Numbers of the above list divisible by thirteen:\n",
      "[65, 39, 221]\n"
     ]
    }
   ],
   "source": [
    "my_list = [12, 65, 54, 39, 102,  339, 221, 50, 70]\n",
    "print(\"Orginal list:\")\n",
    "print(my_list) \n",
    "result = list(filter(lambda x: (x % 13 == 0), my_list)) \n",
    "print(\"\\nNumbers of the above list divisible by thirteen:\")\n",
    "print(result)"
   ]
  },
  {
   "cell_type": "markdown",
   "id": "8ee4ead6",
   "metadata": {},
   "source": [
    "# 5) Write a Python program that multiply each number of given list with a given number using lambda function. Print the result."
   ]
  },
  {
   "cell_type": "code",
   "execution_count": 5,
   "id": "059d18cb",
   "metadata": {},
   "outputs": [
    {
     "name": "stdout",
     "output_type": "stream",
     "text": [
      "Original list:  [2, 4, 6, 9, 11]\n",
      "Given number:  2\n",
      "Result:\n",
      "4 8 12 18 22\n"
     ]
    }
   ],
   "source": [
    "nums = [2, 4, 6, 9 , 11]\n",
    "n = 2\n",
    "print(\"Original list: \", nums)\n",
    "print(\"Given number: \", n)\n",
    "filtered_numbers=list(map(lambda number:number*n,nums))\n",
    "print(\"Result:\")\n",
    "print(' '.join(map(str,filtered_numbers)))"
   ]
  }
 ],
 "metadata": {
  "kernelspec": {
   "display_name": "Python 3 (ipykernel)",
   "language": "python",
   "name": "python3"
  },
  "language_info": {
   "codemirror_mode": {
    "name": "ipython",
    "version": 3
   },
   "file_extension": ".py",
   "mimetype": "text/x-python",
   "name": "python",
   "nbconvert_exporter": "python",
   "pygments_lexer": "ipython3",
   "version": "3.9.7"
  }
 },
 "nbformat": 4,
 "nbformat_minor": 5
}
